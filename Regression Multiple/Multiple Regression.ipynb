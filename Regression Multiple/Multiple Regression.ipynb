{
 "cells": [
  {
   "cell_type": "markdown",
   "id": "6c23fb4d",
   "metadata": {},
   "source": [
    "# TP N°2 – La régression multiple"
   ]
  },
  {
   "cell_type": "markdown",
   "id": "66dfc42d",
   "metadata": {},
   "source": [
    "### Exercice N°1 : Régression Multiple “ Exemple prix des maisons“\n",
    "Créer un classifieur de la régression linéaire Multiple pour prédire les prix des  maisons en fonction de la surface et le nombre de chambres."
   ]
  },
  {
   "cell_type": "markdown",
   "id": "d7d4de02",
   "metadata": {},
   "source": [
    " Régression Multiple\n",
    "Objectifs du TP :\n",
    "- Appliquer la Multiple\n",
    "- Calculer la prédiction\n",
    "- Calculer l’erreur\n",
    "- Visualiser les résultats"
   ]
  },
  {
   "cell_type": "markdown",
   "id": "feb18f5f",
   "metadata": {},
   "source": [
    "###### 1. Importer les bibliothèques nécessaires : pandas, numpy, matplotlib, et sklearn…etc\n",
    "\n",
    "\n"
   ]
  },
  {
   "cell_type": "code",
   "execution_count": 1,
   "id": "e3b3ff0a",
   "metadata": {},
   "outputs": [],
   "source": [
    "import numpy as np\n",
    "import pandas as pd\n",
    "import matplotlib.pyplot as plt \n",
    "from sklearn.linear_model import LinearRegression "
   ]
  },
  {
   "cell_type": "markdown",
   "id": "a347b7ef",
   "metadata": {},
   "source": [
    "###### 2. Importer la base de données par la fonction : read_excel()"
   ]
  },
  {
   "cell_type": "code",
   "execution_count": 2,
   "id": "e98b1b62",
   "metadata": {},
   "outputs": [],
   "source": [
    "df = pd.read_excel(\"data.xlsx\")"
   ]
  },
  {
   "cell_type": "markdown",
   "id": "5ec943e4",
   "metadata": {},
   "source": [
    "###### 3. Afficher les premières lignes chargées de votre fichier Excel\n"
   ]
  },
  {
   "cell_type": "code",
   "execution_count": 3,
   "id": "9f67eab0",
   "metadata": {},
   "outputs": [
    {
     "data": {
      "text/html": [
       "<div>\n",
       "<style scoped>\n",
       "    .dataframe tbody tr th:only-of-type {\n",
       "        vertical-align: middle;\n",
       "    }\n",
       "\n",
       "    .dataframe tbody tr th {\n",
       "        vertical-align: top;\n",
       "    }\n",
       "\n",
       "    .dataframe thead th {\n",
       "        text-align: right;\n",
       "    }\n",
       "</style>\n",
       "<table border=\"1\" class=\"dataframe\">\n",
       "  <thead>\n",
       "    <tr style=\"text-align: right;\">\n",
       "      <th></th>\n",
       "      <th>taille_en_pieds_carre</th>\n",
       "      <th>nb_chambres</th>\n",
       "      <th>prix</th>\n",
       "    </tr>\n",
       "  </thead>\n",
       "  <tbody>\n",
       "    <tr>\n",
       "      <th>0</th>\n",
       "      <td>2104</td>\n",
       "      <td>3</td>\n",
       "      <td>399900</td>\n",
       "    </tr>\n",
       "    <tr>\n",
       "      <th>1</th>\n",
       "      <td>1600</td>\n",
       "      <td>3</td>\n",
       "      <td>329900</td>\n",
       "    </tr>\n",
       "    <tr>\n",
       "      <th>2</th>\n",
       "      <td>2400</td>\n",
       "      <td>3</td>\n",
       "      <td>369000</td>\n",
       "    </tr>\n",
       "    <tr>\n",
       "      <th>3</th>\n",
       "      <td>1416</td>\n",
       "      <td>2</td>\n",
       "      <td>232000</td>\n",
       "    </tr>\n",
       "    <tr>\n",
       "      <th>4</th>\n",
       "      <td>3000</td>\n",
       "      <td>4</td>\n",
       "      <td>539900</td>\n",
       "    </tr>\n",
       "  </tbody>\n",
       "</table>\n",
       "</div>"
      ],
      "text/plain": [
       "   taille_en_pieds_carre  nb_chambres    prix\n",
       "0                   2104            3  399900\n",
       "1                   1600            3  329900\n",
       "2                   2400            3  369000\n",
       "3                   1416            2  232000\n",
       "4                   3000            4  539900"
      ]
     },
     "execution_count": 3,
     "metadata": {},
     "output_type": "execute_result"
    }
   ],
   "source": [
    "df.head(5)"
   ]
  },
  {
   "cell_type": "markdown",
   "id": "6d8d8abb",
   "metadata": {},
   "source": [
    "###### 4. Récupérer le prix : les valeurs observées pour la variable Cible\n"
   ]
  },
  {
   "cell_type": "code",
   "execution_count": 4,
   "id": "a7248eb4",
   "metadata": {},
   "outputs": [
    {
     "data": {
      "text/plain": [
       "(47,)"
      ]
     },
     "execution_count": 4,
     "metadata": {},
     "output_type": "execute_result"
    }
   ],
   "source": [
    "prix_y = df.iloc[ : , -1].values\n",
    "prix_y.shape"
   ]
  },
  {
   "cell_type": "markdown",
   "id": "b08e48e9",
   "metadata": {},
   "source": [
    "###### 5. Récupérer les variables prédictives : La superficie en pieds² et le nombre des chambres"
   ]
  },
  {
   "cell_type": "code",
   "execution_count": 5,
   "id": "f1a46785",
   "metadata": {},
   "outputs": [
    {
     "data": {
      "text/plain": [
       "(47, 2)"
      ]
     },
     "execution_count": 5,
     "metadata": {},
     "output_type": "execute_result"
    }
   ],
   "source": [
    "x = df.iloc[ : , 0 : 2].values\n",
    "x.shape"
   ]
  },
  {
   "cell_type": "markdown",
   "id": "607aea00",
   "metadata": {},
   "source": [
    "###### 6. Afficher les données utilisées sous forme d’un graphe 3D\n"
   ]
  },
  {
   "cell_type": "code",
   "execution_count": 6,
   "id": "66fe2b33",
   "metadata": {},
   "outputs": [
    {
     "data": {
      "text/plain": [
       "<mpl_toolkits.mplot3d.art3d.Path3DCollection at 0x19130d8cc40>"
      ]
     },
     "execution_count": 6,
     "metadata": {},
     "output_type": "execute_result"
    },
    {
     "data": {
      "image/png": "[encoded data removed]",
      "text/plain": [
       "<Figure size 1400x800 with 1 Axes>"
      ]
     },
     "metadata": {},
     "output_type": "display_data"
    }
   ],
   "source": [
    "plt.figure(figsize= (14 , 8))\n",
    "ax = plt.axes(projection = \"3d\")\n",
    "ax.scatter3D(x[ : , 0] , x[ : , -1] , prix_y , c='b')"
   ]
  },
  {
   "cell_type": "markdown",
   "id": "91db0fc7",
   "metadata": {},
   "source": [
    "###### 7. Créer le modèle de la régression linéaire Multiple.\n"
   ]
  },
  {
   "cell_type": "code",
   "execution_count": 7,
   "id": "a9902447",
   "metadata": {},
   "outputs": [],
   "source": [
    "model = LinearRegression()"
   ]
  },
  {
   "cell_type": "markdown",
   "id": "d678cc68",
   "metadata": {},
   "source": [
    "###### 8. Appliquer l’apprentissage automatique par la régression Multiple\n"
   ]
  },
  {
   "cell_type": "code",
   "execution_count": 8,
   "id": "5c42fb5f",
   "metadata": {},
   "outputs": [
    {
     "data": {
      "text/html": [
       "<style>#sk-container-id-1 {color: black;background-color: white;}#sk-container-id-1 pre{padding: 0;}#sk-container-id-1 div.sk-toggleable {background-color: white;}#sk-container-id-1 label.sk-toggleable__label {cursor: pointer;display: block;width: 100%;margin-bottom: 0;padding: 0.3em;box-sizing: border-box;text-align: center;}#sk-container-id-1 label.sk-toggleable__label-arrow:before {content: \"▸\";float: left;margin-right: 0.25em;color: #696969;}#sk-container-id-1 label.sk-toggleable__label-arrow:hover:before {color: black;}#sk-container-id-1 div.sk-estimator:hover label.sk-toggleable__label-arrow:before {color: black;}#sk-container-id-1 div.sk-toggleable__content {max-height: 0;max-width: 0;overflow: hidden;text-align: left;background-color: #f0f8ff;}#sk-container-id-1 div.sk-toggleable__content pre {margin: 0.2em;color: black;border-radius: 0.25em;background-color: #f0f8ff;}#sk-container-id-1 input.sk-toggleable__control:checked~div.sk-toggleable__content {max-height: 200px;max-width: 100%;overflow: auto;}#sk-container-id-1 input.sk-toggleable__control:checked~label.sk-toggleable__label-arrow:before {content: \"▾\";}#sk-container-id-1 div.sk-estimator input.sk-toggleable__control:checked~label.sk-toggleable__label {background-color: #d4ebff;}#sk-container-id-1 div.sk-label input.sk-toggleable__control:checked~label.sk-toggleable__label {background-color: #d4ebff;}#sk-container-id-1 input.sk-hidden--visually {border: 0;clip: rect(1px 1px 1px 1px);clip: rect(1px, 1px, 1px, 1px);height: 1px;margin: -1px;overflow: hidden;padding: 0;position: absolute;width: 1px;}#sk-container-id-1 div.sk-estimator {font-family: monospace;background-color: #f0f8ff;border: 1px dotted black;border-radius: 0.25em;box-sizing: border-box;margin-bottom: 0.5em;}#sk-container-id-1 div.sk-estimator:hover {background-color: #d4ebff;}#sk-container-id-1 div.sk-parallel-item::after {content: \"\";width: 100%;border-bottom: 1px solid gray;flex-grow: 1;}#sk-container-id-1 div.sk-label:hover label.sk-toggleable__label {background-color: #d4ebff;}#sk-container-id-1 div.sk-serial::before {content: \"\";position: absolute;border-left: 1px solid gray;box-sizing: border-box;top: 0;bottom: 0;left: 50%;z-index: 0;}#sk-container-id-1 div.sk-serial {display: flex;flex-direction: column;align-items: center;background-color: white;padding-right: 0.2em;padding-left: 0.2em;position: relative;}#sk-container-id-1 div.sk-item {position: relative;z-index: 1;}#sk-container-id-1 div.sk-parallel {display: flex;align-items: stretch;justify-content: center;background-color: white;position: relative;}#sk-container-id-1 div.sk-item::before, #sk-container-id-1 div.sk-parallel-item::before {content: \"\";position: absolute;border-left: 1px solid gray;box-sizing: border-box;top: 0;bottom: 0;left: 50%;z-index: -1;}#sk-container-id-1 div.sk-parallel-item {display: flex;flex-direction: column;z-index: 1;position: relative;background-color: white;}#sk-container-id-1 div.sk-parallel-item:first-child::after {align-self: flex-end;width: 50%;}#sk-container-id-1 div.sk-parallel-item:last-child::after {align-self: flex-start;width: 50%;}#sk-container-id-1 div.sk-parallel-item:only-child::after {width: 0;}#sk-container-id-1 div.sk-dashed-wrapped {border: 1px dashed gray;margin: 0 0.4em 0.5em 0.4em;box-sizing: border-box;padding-bottom: 0.4em;background-color: white;}#sk-container-id-1 div.sk-label label {font-family: monospace;font-weight: bold;display: inline-block;line-height: 1.2em;}#sk-container-id-1 div.sk-label-container {text-align: center;}#sk-container-id-1 div.sk-container {/* jupyter's `normalize.less` sets `[hidden] { display: none; }` but bootstrap.min.css set `[hidden] { display: none !important; }` so we also need the `!important` here to be able to override the default hidden behavior on the sphinx rendered scikit-learn.org. See: https://github.com/scikit-learn/scikit-learn/issues/21755 */display: inline-block !important;position: relative;}#sk-container-id-1 div.sk-text-repr-fallback {display: none;}</style><div id=\"sk-container-id-1\" class=\"sk-top-container\"><div class=\"sk-text-repr-fallback\"><pre>LinearRegression()</pre><b>In a Jupyter environment, please rerun this cell to show the HTML representation or trust the notebook. <br />On GitHub, the HTML representation is unable to render, please try loading this page with nbviewer.org.</b></div><div class=\"sk-container\" hidden><div class=\"sk-item\"><div class=\"sk-estimator sk-toggleable\"><input class=\"sk-toggleable__control sk-hidden--visually\" id=\"sk-estimator-id-1\" type=\"checkbox\" checked><label for=\"sk-estimator-id-1\" class=\"sk-toggleable__label sk-toggleable__label-arrow\">LinearRegression</label><div class=\"sk-toggleable__content\"><pre>LinearRegression()</pre></div></div></div></div></div>"
      ],
      "text/plain": [
       "LinearRegression()"
      ]
     },
     "execution_count": 8,
     "metadata": {},
     "output_type": "execute_result"
    }
   ],
   "source": [
    "model.fit(x , prix_y)"
   ]
  },
  {
   "cell_type": "markdown",
   "id": "2d878136",
   "metadata": {},
   "source": [
    "###### 9. Calculer la prédiction\n"
   ]
  },
  {
   "cell_type": "code",
   "execution_count": 9,
   "id": "20d5de98",
   "metadata": {},
   "outputs": [],
   "source": [
    "prediction = model.predict(x)"
   ]
  },
  {
   "cell_type": "markdown",
   "id": "d1daf0e1",
   "metadata": {},
   "source": [
    "###### 10.Afficher les résultats en fonction de la surface, nombre de chambre et la prédiction.\n"
   ]
  },
  {
   "cell_type": "code",
   "execution_count": 10,
   "id": "8b3b4cc5",
   "metadata": {},
   "outputs": [
    {
     "name": "stdout",
     "output_type": "stream",
     "text": [
      "[356283.1103389  286120.93063401 397489.46984812 269244.1857271\n",
      " 472277.85514636 330979.02101847 276933.02614885 262037.48402897\n",
      " 255494.58235014 271364.59918815 324714.54068768 341805.20024107\n",
      " 326492.02609913 669293.21223209 239902.98686016 374830.38333402\n",
      " 255879.96102141 235448.2452916  417846.48160547 476593.38604091\n",
      " 309369.11319496 334951.62386342 286677.77333009 327777.17551607\n",
      " 604913.37413438 216515.5936252  266353.01492351 415030.01477434\n",
      " 369647.33504459 430482.39959029 328130.30083656 220070.5644481\n",
      " 338635.60808944 500087.73659911 306756.36373941 263429.59076914\n",
      " 235865.87731365 351442.99009906 641418.82407778 355619.31031959\n",
      " 303768.43288347 374937.34065726 411999.63329673 230436.66102696\n",
      " 190729.36558116 312464.00137413 230854.29304902]\n"
     ]
    }
   ],
   "source": [
    "print(prediction)"
   ]
  },
  {
   "cell_type": "markdown",
   "id": "bdc80be7",
   "metadata": {},
   "source": [
    "###### 11.Commenter les résultats\n"
   ]
  },
  {
   "cell_type": "markdown",
   "id": "cc154394",
   "metadata": {},
   "source": [
    "on observe que les valeurs des predictions sont presque egal les valeurs reels des prix des maisons."
   ]
  },
  {
   "cell_type": "markdown",
   "id": "27e9fc17",
   "metadata": {},
   "source": [
    "###### 12.Tester la prédiction sur l’exemple : (surface : 450, nombre de chambres : 5)"
   ]
  },
  {
   "cell_type": "code",
   "execution_count": 11,
   "id": "870c757e",
   "metadata": {},
   "outputs": [
    {
     "name": "stdout",
     "output_type": "stream",
     "text": [
      "Le prix a predir c'est :  108552.61728908977\n"
     ]
    }
   ],
   "source": [
    "prix_pred = model.predict(np.array([[450 , 5]]))\n",
    "print(\"Le prix a predir c'est : \" , prix_pred[0])"
   ]
  },
  {
   "cell_type": "markdown",
   "id": "4cff5caf",
   "metadata": {},
   "source": [
    "# Exercice N°2 : Régression Multiple Exemple Prédiction des prix des voitures :"
   ]
  },
  {
   "cell_type": "markdown",
   "id": "a9e1e45c",
   "metadata": {},
   "source": [
    "Une société automobile aspire à pénétrer le marché international en y installant son\n",
    "unité de fabrication et en produisant des voitures localement pour faire concurrence\n",
    "à ses homologues.\n",
    "\n",
    "Ils ont engagé une société de conseil automobile pour comprendre les facteurs dont\n",
    "dépend le prix des voitures. Plus précisément, ils veulent comprendre les facteurs\n",
    "affectant le prix des voitures sur le marché américain, car ceux-ci peuvent être très\n",
    "différents du marché chinois. L'entreprise veut savoir :\n",
    "\n",
    "Quelles variables sont importantes pour prédire le prix d'une voiture ?\n",
    "\n",
    "Dans quelle mesure ces variables décrivent le prix d'une voiture ?\n",
    "\n",
    "Sur la base de diverses études de marché, la société a rassemblé un vaste ensemble\n",
    "de données sur différents types de voitures sur le marché.\n",
    "\n",
    "Pour cela, Créer un classifieur de la régression linéaire Multiple pour prédire les\n",
    "\n",
    "prix des voitures en fonction de plusieurs paramètres.\n",
    "\n",
    "Appliquer les étapes nécessaires pour créer le classificateur de la Régression\n",
    "linéaire Multiple afin d’analyser les prix des voitures."
   ]
  },
  {
   "cell_type": "markdown",
   "id": "d3e05f99",
   "metadata": {},
   "source": [
    "###### 1. Importer les bibliothèques nécessaires : numpy, pandas, matplotlib.pyplot et seaborn"
   ]
  },
  {
   "cell_type": "code",
   "execution_count": 12,
   "id": "798ba587",
   "metadata": {},
   "outputs": [],
   "source": [
    "import seaborn as sns\n",
    "import numpy as np\n",
    "import pandas as pd\n",
    "import matplotlib.pyplot as plt \n",
    "from sklearn.model_selection import train_test_split\n",
    "from sklearn.linear_model import LinearRegression"
   ]
  },
  {
   "cell_type": "markdown",
   "id": "b2302a31",
   "metadata": {},
   "source": [
    "###### 2. Importer la base de données par la fonction : read_csv()"
   ]
  },
  {
   "cell_type": "code",
   "execution_count": 13,
   "id": "02c88ba3",
   "metadata": {},
   "outputs": [],
   "source": [
    "cars = pd.read_csv('car data.csv')"
   ]
  },
  {
   "cell_type": "markdown",
   "id": "b44086e4",
   "metadata": {},
   "source": [
    "###### 3. Afficher les premières lignes chargées de votre fichier csv."
   ]
  },
  {
   "cell_type": "code",
   "execution_count": 14,
   "id": "98d93967",
   "metadata": {},
   "outputs": [
    {
     "data": {
      "text/html": [
       "<div>\n",
       "<style scoped>\n",
       "    .dataframe tbody tr th:only-of-type {\n",
       "        vertical-align: middle;\n",
       "    }\n",
       "\n",
       "    .dataframe tbody tr th {\n",
       "        vertical-align: top;\n",
       "    }\n",
       "\n",
       "    .dataframe thead th {\n",
       "        text-align: right;\n",
       "    }\n",
       "</style>\n",
       "<table border=\"1\" class=\"dataframe\">\n",
       "  <thead>\n",
       "    <tr style=\"text-align: right;\">\n",
       "      <th></th>\n",
       "      <th>Car_Name</th>\n",
       "      <th>Year</th>\n",
       "      <th>Selling_Price</th>\n",
       "      <th>Present_Price</th>\n",
       "      <th>Kms_Driven</th>\n",
       "      <th>Fuel_Type</th>\n",
       "      <th>Seller_Type</th>\n",
       "      <th>Transmission</th>\n",
       "      <th>Owner</th>\n",
       "    </tr>\n",
       "  </thead>\n",
       "  <tbody>\n",
       "    <tr>\n",
       "      <th>0</th>\n",
       "      <td>ritz</td>\n",
       "      <td>2014</td>\n",
       "      <td>3.35</td>\n",
       "      <td>5.59</td>\n",
       "      <td>27000</td>\n",
       "      <td>Petrol</td>\n",
       "      <td>Dealer</td>\n",
       "      <td>Manual</td>\n",
       "      <td>0</td>\n",
       "    </tr>\n",
       "    <tr>\n",
       "      <th>1</th>\n",
       "      <td>sx4</td>\n",
       "      <td>2013</td>\n",
       "      <td>4.75</td>\n",
       "      <td>9.54</td>\n",
       "      <td>43000</td>\n",
       "      <td>Diesel</td>\n",
       "      <td>Dealer</td>\n",
       "      <td>Manual</td>\n",
       "      <td>0</td>\n",
       "    </tr>\n",
       "    <tr>\n",
       "      <th>2</th>\n",
       "      <td>ciaz</td>\n",
       "      <td>2017</td>\n",
       "      <td>7.25</td>\n",
       "      <td>9.85</td>\n",
       "      <td>6900</td>\n",
       "      <td>Petrol</td>\n",
       "      <td>Dealer</td>\n",
       "      <td>Manual</td>\n",
       "      <td>0</td>\n",
       "    </tr>\n",
       "    <tr>\n",
       "      <th>3</th>\n",
       "      <td>wagon r</td>\n",
       "      <td>2011</td>\n",
       "      <td>2.85</td>\n",
       "      <td>4.15</td>\n",
       "      <td>5200</td>\n",
       "      <td>Petrol</td>\n",
       "      <td>Dealer</td>\n",
       "      <td>Manual</td>\n",
       "      <td>0</td>\n",
       "    </tr>\n",
       "    <tr>\n",
       "      <th>4</th>\n",
       "      <td>swift</td>\n",
       "      <td>2014</td>\n",
       "      <td>4.60</td>\n",
       "      <td>6.87</td>\n",
       "      <td>42450</td>\n",
       "      <td>Diesel</td>\n",
       "      <td>Dealer</td>\n",
       "      <td>Manual</td>\n",
       "      <td>0</td>\n",
       "    </tr>\n",
       "  </tbody>\n",
       "</table>\n",
       "</div>"
      ],
      "text/plain": [
       "  Car_Name  Year  Selling_Price  Present_Price  Kms_Driven Fuel_Type  \\\n",
       "0     ritz  2014           3.35           5.59       27000    Petrol   \n",
       "1      sx4  2013           4.75           9.54       43000    Diesel   \n",
       "2     ciaz  2017           7.25           9.85        6900    Petrol   \n",
       "3  wagon r  2011           2.85           4.15        5200    Petrol   \n",
       "4    swift  2014           4.60           6.87       42450    Diesel   \n",
       "\n",
       "  Seller_Type Transmission  Owner  \n",
       "0      Dealer       Manual      0  \n",
       "1      Dealer       Manual      0  \n",
       "2      Dealer       Manual      0  \n",
       "3      Dealer       Manual      0  \n",
       "4      Dealer       Manual      0  "
      ]
     },
     "execution_count": 14,
     "metadata": {},
     "output_type": "execute_result"
    }
   ],
   "source": [
    "cars.head(5)"
   ]
  },
  {
   "cell_type": "markdown",
   "id": "c59b3929",
   "metadata": {},
   "source": [
    "######  4. Afficher le nombre de lignes et de colonnes"
   ]
  },
  {
   "cell_type": "code",
   "execution_count": 15,
   "id": "8f3d23bb",
   "metadata": {},
   "outputs": [
    {
     "name": "stdout",
     "output_type": "stream",
     "text": [
      "le nombre et de colonnes 9\n"
     ]
    }
   ],
   "source": [
    "print('le nombre et de colonnes' , len(cars.columns))\n",
    "# cars.nunique()"
   ]
  },
  {
   "cell_type": "markdown",
   "id": "31e5d106",
   "metadata": {},
   "source": [
    "###### 5. Afficher d’autre information sur les données utilisés notamment le type de chaque variable int , float non nulle etc par la fonction suivante: info()"
   ]
  },
  {
   "cell_type": "code",
   "execution_count": 16,
   "id": "c3420a04",
   "metadata": {},
   "outputs": [
    {
     "name": "stdout",
     "output_type": "stream",
     "text": [
      "<class 'pandas.core.frame.DataFrame'>\n",
      "RangeIndex: 301 entries, 0 to 300\n",
      "Data columns (total 9 columns):\n",
      " #   Column         Non-Null Count  Dtype  \n",
      "---  ------         --------------  -----  \n",
      " 0   Car_Name       301 non-null    object \n",
      " 1   Year           301 non-null    int64  \n",
      " 2   Selling_Price  301 non-null    float64\n",
      " 3   Present_Price  301 non-null    float64\n",
      " 4   Kms_Driven     301 non-null    int64  \n",
      " 5   Fuel_Type      301 non-null    object \n",
      " 6   Seller_Type    301 non-null    object \n",
      " 7   Transmission   301 non-null    object \n",
      " 8   Owner          301 non-null    int64  \n",
      "dtypes: float64(2), int64(3), object(4)\n",
      "memory usage: 21.3+ KB\n"
     ]
    }
   ],
   "source": [
    "cars.info()"
   ]
  },
  {
   "cell_type": "markdown",
   "id": "b18bb6de",
   "metadata": {},
   "source": [
    "###### 6. Afficher la somme des cases nulle pour chaque variable par la fonction suivante : isnull().sum()"
   ]
  },
  {
   "cell_type": "code",
   "execution_count": 17,
   "id": "c2afa6a3",
   "metadata": {},
   "outputs": [
    {
     "data": {
      "text/plain": [
       "Car_Name         0\n",
       "Year             0\n",
       "Selling_Price    0\n",
       "Present_Price    0\n",
       "Kms_Driven       0\n",
       "Fuel_Type        0\n",
       "Seller_Type      0\n",
       "Transmission     0\n",
       "Owner            0\n",
       "dtype: int64"
      ]
     },
     "execution_count": 17,
     "metadata": {},
     "output_type": "execute_result"
    }
   ],
   "source": [
    "cars.isnull().sum()"
   ]
  },
  {
   "cell_type": "markdown",
   "id": "61dc401b",
   "metadata": {},
   "source": [
    "###### 7. Afficher une description totale de la base de données par la fonction suivante : describe()"
   ]
  },
  {
   "cell_type": "code",
   "execution_count": 18,
   "id": "adfd6fb7",
   "metadata": {},
   "outputs": [
    {
     "data": {
      "text/html": [
       "<div>\n",
       "<style scoped>\n",
       "    .dataframe tbody tr th:only-of-type {\n",
       "        vertical-align: middle;\n",
       "    }\n",
       "\n",
       "    .dataframe tbody tr th {\n",
       "        vertical-align: top;\n",
       "    }\n",
       "\n",
       "    .dataframe thead th {\n",
       "        text-align: right;\n",
       "    }\n",
       "</style>\n",
       "<table border=\"1\" class=\"dataframe\">\n",
       "  <thead>\n",
       "    <tr style=\"text-align: right;\">\n",
       "      <th></th>\n",
       "      <th>Year</th>\n",
       "      <th>Selling_Price</th>\n",
       "      <th>Present_Price</th>\n",
       "      <th>Kms_Driven</th>\n",
       "      <th>Owner</th>\n",
       "    </tr>\n",
       "  </thead>\n",
       "  <tbody>\n",
       "    <tr>\n",
       "      <th>count</th>\n",
       "      <td>301.000000</td>\n",
       "      <td>301.000000</td>\n",
       "      <td>301.000000</td>\n",
       "      <td>301.000000</td>\n",
       "      <td>301.000000</td>\n",
       "    </tr>\n",
       "    <tr>\n",
       "      <th>mean</th>\n",
       "      <td>2013.627907</td>\n",
       "      <td>4.661296</td>\n",
       "      <td>7.628472</td>\n",
       "      <td>36947.205980</td>\n",
       "      <td>0.043189</td>\n",
       "    </tr>\n",
       "    <tr>\n",
       "      <th>std</th>\n",
       "      <td>2.891554</td>\n",
       "      <td>5.082812</td>\n",
       "      <td>8.644115</td>\n",
       "      <td>38886.883882</td>\n",
       "      <td>0.247915</td>\n",
       "    </tr>\n",
       "    <tr>\n",
       "      <th>min</th>\n",
       "      <td>2003.000000</td>\n",
       "      <td>0.100000</td>\n",
       "      <td>0.320000</td>\n",
       "      <td>500.000000</td>\n",
       "      <td>0.000000</td>\n",
       "    </tr>\n",
       "    <tr>\n",
       "      <th>25%</th>\n",
       "      <td>2012.000000</td>\n",
       "      <td>0.900000</td>\n",
       "      <td>1.200000</td>\n",
       "      <td>15000.000000</td>\n",
       "      <td>0.000000</td>\n",
       "    </tr>\n",
       "    <tr>\n",
       "      <th>50%</th>\n",
       "      <td>2014.000000</td>\n",
       "      <td>3.600000</td>\n",
       "      <td>6.400000</td>\n",
       "      <td>32000.000000</td>\n",
       "      <td>0.000000</td>\n",
       "    </tr>\n",
       "    <tr>\n",
       "      <th>75%</th>\n",
       "      <td>2016.000000</td>\n",
       "      <td>6.000000</td>\n",
       "      <td>9.900000</td>\n",
       "      <td>48767.000000</td>\n",
       "      <td>0.000000</td>\n",
       "    </tr>\n",
       "    <tr>\n",
       "      <th>max</th>\n",
       "      <td>2018.000000</td>\n",
       "      <td>35.000000</td>\n",
       "      <td>92.600000</td>\n",
       "      <td>500000.000000</td>\n",
       "      <td>3.000000</td>\n",
       "    </tr>\n",
       "  </tbody>\n",
       "</table>\n",
       "</div>"
      ],
      "text/plain": [
       "              Year  Selling_Price  Present_Price     Kms_Driven       Owner\n",
       "count   301.000000     301.000000     301.000000     301.000000  301.000000\n",
       "mean   2013.627907       4.661296       7.628472   36947.205980    0.043189\n",
       "std       2.891554       5.082812       8.644115   38886.883882    0.247915\n",
       "min    2003.000000       0.100000       0.320000     500.000000    0.000000\n",
       "25%    2012.000000       0.900000       1.200000   15000.000000    0.000000\n",
       "50%    2014.000000       3.600000       6.400000   32000.000000    0.000000\n",
       "75%    2016.000000       6.000000       9.900000   48767.000000    0.000000\n",
       "max    2018.000000      35.000000      92.600000  500000.000000    3.000000"
      ]
     },
     "execution_count": 18,
     "metadata": {},
     "output_type": "execute_result"
    }
   ],
   "source": [
    "cars.describe()"
   ]
  },
  {
   "cell_type": "markdown",
   "id": "132d1b57",
   "metadata": {},
   "source": [
    "###### 8. Extraire le nombre des variables catégorielle notamment par la fonction suivante : value_counts()."
   ]
  },
  {
   "cell_type": "code",
   "execution_count": 19,
   "id": "07867e8b",
   "metadata": {},
   "outputs": [
    {
     "data": {
      "text/plain": [
       "Car_Name           Year  Selling_Price  Present_Price  Kms_Driven  Fuel_Type  Seller_Type  Transmission  Owner\n",
       "fortuner           2015  23.00          30.61          40000       Diesel     Dealer       Automatic     0        2\n",
       "ertiga             2016  7.75           10.79          43000       Diesel     Dealer       Manual        0        2\n",
       "800                2003  0.35           2.28           127000      Petrol     Individual   Manual        0        1\n",
       "ertiga             2015  6.10           7.71           26000       Petrol     Dealer       Manual        0        1\n",
       "etios g            2014  4.75           6.76           40000       Petrol     Dealer       Manual        0        1\n",
       "                                                                                                                 ..\n",
       "Yamaha FZ S V 2.0  2015  0.55           0.84           58000       Petrol     Individual   Manual        0        1\n",
       "                         0.48           0.84           23000       Petrol     Individual   Manual        0        1\n",
       "Yamaha FZ S        2012  0.40           0.83           5500        Petrol     Individual   Manual        0        1\n",
       "Yamaha FZ 16       2015  0.75           0.82           18000       Petrol     Individual   Manual        0        1\n",
       "xcent              2017  5.75           7.13           12479       Petrol     Dealer       Manual        0        1\n",
       "Length: 299, dtype: int64"
      ]
     },
     "execution_count": 19,
     "metadata": {},
     "output_type": "execute_result"
    }
   ],
   "source": [
    "cars.value_counts()"
   ]
  },
  {
   "cell_type": "markdown",
   "id": "8d599e42",
   "metadata": {},
   "source": [
    "###### 9. Transformer les variables catégorielles en des variables numériques par la fonction suivante : replace()"
   ]
  },
  {
   "cell_type": "code",
   "execution_count": 20,
   "id": "e87448ea",
   "metadata": {},
   "outputs": [
    {
     "name": "stdout",
     "output_type": "stream",
     "text": [
      "Nombre des modelites (Categories) de le variables 'Transmission' est :  ['Manual' 'Automatic']\n",
      "Nombre des modelites (Categories) de le variables 'Seller_Type' est :  ['Dealer' 'Individual']\n",
      "Nombre des modelites (Categories) de le variables 'Fuel_Type' est :  ['Petrol' 'Diesel' 'CNG']\n"
     ]
    }
   ],
   "source": [
    "print(\"Nombre des modelites (Categories) de le variables 'Transmission' est : \" , cars.Transmission.unique())\n",
    "print(\"Nombre des modelites (Categories) de le variables 'Seller_Type' est : \" , cars.Seller_Type.unique())\n",
    "print(\"Nombre des modelites (Categories) de le variables 'Fuel_Type' est : \" , cars.Fuel_Type.unique())\n",
    "cars.replace(\n",
    "{\n",
    "'Transmission' :{'Manual' : 0 ,  'Automatic' : 1},\n",
    "'Seller_Type'  :{'Dealer' : 0 , 'Individual' : 1},\n",
    "'Fuel_Type'    :{'Petrol': 0 ,  'Diesel' : 1 , 'CNG' :2}\n",
    "} , inplace = True\n",
    ")"
   ]
  },
  {
   "cell_type": "markdown",
   "id": "83f209ae",
   "metadata": {},
   "source": [
    "###### 10.Afficher la base de données avec les nouvelles modifications"
   ]
  },
  {
   "cell_type": "code",
   "execution_count": 21,
   "id": "1cf585d3",
   "metadata": {},
   "outputs": [
    {
     "data": {
      "text/html": [
       "<div>\n",
       "<style scoped>\n",
       "    .dataframe tbody tr th:only-of-type {\n",
       "        vertical-align: middle;\n",
       "    }\n",
       "\n",
       "    .dataframe tbody tr th {\n",
       "        vertical-align: top;\n",
       "    }\n",
       "\n",
       "    .dataframe thead th {\n",
       "        text-align: right;\n",
       "    }\n",
       "</style>\n",
       "<table border=\"1\" class=\"dataframe\">\n",
       "  <thead>\n",
       "    <tr style=\"text-align: right;\">\n",
       "      <th></th>\n",
       "      <th>Car_Name</th>\n",
       "      <th>Year</th>\n",
       "      <th>Selling_Price</th>\n",
       "      <th>Present_Price</th>\n",
       "      <th>Kms_Driven</th>\n",
       "      <th>Fuel_Type</th>\n",
       "      <th>Seller_Type</th>\n",
       "      <th>Transmission</th>\n",
       "      <th>Owner</th>\n",
       "    </tr>\n",
       "  </thead>\n",
       "  <tbody>\n",
       "    <tr>\n",
       "      <th>0</th>\n",
       "      <td>ritz</td>\n",
       "      <td>2014</td>\n",
       "      <td>3.35</td>\n",
       "      <td>5.59</td>\n",
       "      <td>27000</td>\n",
       "      <td>0</td>\n",
       "      <td>0</td>\n",
       "      <td>0</td>\n",
       "      <td>0</td>\n",
       "    </tr>\n",
       "    <tr>\n",
       "      <th>1</th>\n",
       "      <td>sx4</td>\n",
       "      <td>2013</td>\n",
       "      <td>4.75</td>\n",
       "      <td>9.54</td>\n",
       "      <td>43000</td>\n",
       "      <td>1</td>\n",
       "      <td>0</td>\n",
       "      <td>0</td>\n",
       "      <td>0</td>\n",
       "    </tr>\n",
       "    <tr>\n",
       "      <th>2</th>\n",
       "      <td>ciaz</td>\n",
       "      <td>2017</td>\n",
       "      <td>7.25</td>\n",
       "      <td>9.85</td>\n",
       "      <td>6900</td>\n",
       "      <td>0</td>\n",
       "      <td>0</td>\n",
       "      <td>0</td>\n",
       "      <td>0</td>\n",
       "    </tr>\n",
       "  </tbody>\n",
       "</table>\n",
       "</div>"
      ],
      "text/plain": [
       "  Car_Name  Year  Selling_Price  Present_Price  Kms_Driven  Fuel_Type  \\\n",
       "0     ritz  2014           3.35           5.59       27000          0   \n",
       "1      sx4  2013           4.75           9.54       43000          1   \n",
       "2     ciaz  2017           7.25           9.85        6900          0   \n",
       "\n",
       "   Seller_Type  Transmission  Owner  \n",
       "0            0             0      0  \n",
       "1            0             0      0  \n",
       "2            0             0      0  "
      ]
     },
     "execution_count": 21,
     "metadata": {},
     "output_type": "execute_result"
    }
   ],
   "source": [
    "cars.head(3)"
   ]
  },
  {
   "cell_type": "markdown",
   "id": "03354047",
   "metadata": {},
   "source": [
    "###### 11.Afficher l’évaluation des prix pour les voitures en utilisant la bibliothèque seaborn : sns.distplot(car_dataset['Present_Price'],kde=True)"
   ]
  },
  {
   "cell_type": "code",
   "execution_count": 22,
   "id": "891f889e",
   "metadata": {},
   "outputs": [
    {
     "name": "stderr",
     "output_type": "stream",
     "text": [
      "C:\\Users\\admin\\AppData\\Local\\Temp\\ipykernel_9436\\667649956.py:1: UserWarning: \n",
      "\n",
      "`distplot` is a deprecated function and will be removed in seaborn v0.14.0.\n",
      "\n",
      "Please adapt your code to use either `displot` (a figure-level function with\n",
      "similar flexibility) or `histplot` (an axes-level function for histograms).\n",
      "\n",
      "For a guide to updating your code to use the new functions, please see\n",
      "https://gist.github.com/mwaskom/de44147ed2974457ad6372750bbe5751\n",
      "\n",
      "  sns.distplot(cars[\"Present_Price\"] , kde=True)\n"
     ]
    },
    {
     "data": {
      "text/plain": [
       "<AxesSubplot: xlabel='Present_Price', ylabel='Density'>"
      ]
     },
     "execution_count": 22,
     "metadata": {},
     "output_type": "execute_result"
    },
    {
     "data": {
      "image/png": "[encoded data removed]",
      "text/plain": [
       "<Figure size 640x480 with 1 Axes>"
      ]
     },
     "metadata": {},
     "output_type": "display_data"
    }
   ],
   "source": [
    "sns.distplot(cars[\"Present_Price\"] , kde=True)"
   ]
  },
  {
   "cell_type": "markdown",
   "id": "ebb2fe4c",
   "metadata": {},
   "source": [
    "###### 13.Afficher le type de la voiture en fonction du prix sous forme d’un graphe boxplot par la fonction suivante :\n",
    "sns.boxplot(data=car_dataset, x=\"Fuel_Type\", y=\"Present_Price\")"
   ]
  },
  {
   "cell_type": "code",
   "execution_count": 23,
   "id": "7a6c3578",
   "metadata": {},
   "outputs": [
    {
     "data": {
      "text/plain": [
       "<AxesSubplot: xlabel='Fuel_Type', ylabel='Present_Price'>"
      ]
     },
     "execution_count": 23,
     "metadata": {},
     "output_type": "execute_result"
    },
    {
     "data": {
      "image/png": "[encoded data removed]",
      "text/plain": [
       "<Figure size 640x480 with 1 Axes>"
      ]
     },
     "metadata": {},
     "output_type": "display_data"
    }
   ],
   "source": [
    "sns.boxplot(data = cars , x = \"Fuel_Type\", y = \"Present_Price\")"
   ]
  },
  {
   "cell_type": "markdown",
   "id": "288f35fa",
   "metadata": {},
   "source": [
    "###### 14.Afficher le type de transmission en fonction du prix sous forme d’un graphe\n",
    "boxplot, commenter les résultats."
   ]
  },
  {
   "cell_type": "code",
   "execution_count": 24,
   "id": "5823a993",
   "metadata": {},
   "outputs": [
    {
     "data": {
      "text/plain": [
       "<AxesSubplot: xlabel='Transmission', ylabel='Present_Price'>"
      ]
     },
     "execution_count": 24,
     "metadata": {},
     "output_type": "execute_result"
    },
    {
     "data": {
      "image/png": "[encoded data removed]",
      "text/plain": [
       "<Figure size 640x480 with 1 Axes>"
      ]
     },
     "metadata": {},
     "output_type": "display_data"
    }
   ],
   "source": [
    "sns.boxplot(data= cars , x=\"Transmission\" , y= \"Present_Price\")"
   ]
  },
  {
   "cell_type": "markdown",
   "id": "77490b82",
   "metadata": {},
   "source": [
    "###### 15.Afficher le kilométrage en fonction du prix sous forme d’un graphe comme\n",
    "la figure montre :"
   ]
  },
  {
   "cell_type": "code",
   "execution_count": 25,
   "id": "a55b4469",
   "metadata": {},
   "outputs": [
    {
     "name": "stdout",
     "output_type": "stream",
     "text": [
      "whith matplotlib\n"
     ]
    },
    {
     "data": {
      "text/plain": [
       "<matplotlib.collections.PathCollection at 0x19133202ef0>"
      ]
     },
     "execution_count": 25,
     "metadata": {},
     "output_type": "execute_result"
    },
    {
     "data": {
      "image/png": "[encoded data removed]",
      "text/plain": [
       "<Figure size 640x480 with 1 Axes>"
      ]
     },
     "metadata": {},
     "output_type": "display_data"
    }
   ],
   "source": [
    "print(\"whith matplotlib\")\n",
    "plt.scatter(cars.Kms_Driven , cars.Present_Price , c = \"black\")"
   ]
  },
  {
   "cell_type": "code",
   "execution_count": 26,
   "id": "9a224720",
   "metadata": {},
   "outputs": [
    {
     "name": "stdout",
     "output_type": "stream",
     "text": [
      "whith Seaborn\n"
     ]
    },
    {
     "data": {
      "text/plain": [
       "<AxesSubplot: xlabel='Kms_Driven', ylabel='Present_Price'>"
      ]
     },
     "execution_count": 26,
     "metadata": {},
     "output_type": "execute_result"
    },
    {
     "data": {
      "image/png": "[encoded data removed]",
      "text/plain": [
       "<Figure size 640x480 with 1 Axes>"
      ]
     },
     "metadata": {},
     "output_type": "display_data"
    }
   ],
   "source": [
    "\n",
    "print(\"whith Seaborn\")\n",
    "sns.scatterplot(data=cars, x=\"Kms_Driven\" ,  y = \"Present_Price\" )"
   ]
  },
  {
   "cell_type": "markdown",
   "id": "8a528045",
   "metadata": {},
   "source": [
    "###### 16.Afficher la corrélation en les données par le code suivant :"
   ]
  },
  {
   "cell_type": "code",
   "execution_count": 27,
   "id": "c09636ec",
   "metadata": {},
   "outputs": [
    {
     "name": "stderr",
     "output_type": "stream",
     "text": [
      "C:\\Users\\admin\\AppData\\Local\\Temp\\ipykernel_9436\\329826042.py:5: FutureWarning: The default value of numeric_only in DataFrame.corr is deprecated. In a future version, it will default to False. Select only valid columns or specify the value of numeric_only to silence this warning.\n",
      "  sns.heatmap(cars.corr() , annot=True , cmap=\"Blues\")\n"
     ]
    },
    {
     "data": {
      "image/png": "[encoded data removed]",
      "text/plain": [
       "<Figure size 700x700 with 2 Axes>"
      ]
     },
     "metadata": {},
     "output_type": "display_data"
    }
   ],
   "source": [
    "plt.figure(figsize=(7 ,7 ))\n",
    "plt.title(\"Data Correlation \" , size = 25)\n",
    "plt.xlabel(\"colums\" , size=15)\n",
    "plt.ylabel(\"colums\" , size=15)\n",
    "sns.heatmap(cars.corr() , annot=True , cmap=\"Blues\")\n",
    "plt.show()"
   ]
  },
  {
   "cell_type": "markdown",
   "id": "4da33b86",
   "metadata": {},
   "source": [
    "###### 18.Afficher la somme des données dupliqués par ces deux fonctions :\n",
    "duplicated()"
   ]
  },
  {
   "cell_type": "code",
   "execution_count": 28,
   "id": "5974ee70",
   "metadata": {},
   "outputs": [
    {
     "name": "stdout",
     "output_type": "stream",
     "text": [
      "la somme des données dupliqués est : 2\n"
     ]
    }
   ],
   "source": [
    "print(f'la somme des données dupliqués est : {cars.duplicated().sum()}')"
   ]
  },
  {
   "cell_type": "markdown",
   "id": "2d60d28b",
   "metadata": {},
   "source": [
    "##### 18.Localiser les variables indépendantes et dépendante X, Y de te sorte on trouve l’affichage suivant\n",
    "\n",
    "###### - Les variables indépendantes (x1 .. xn)  a le prix (y) sont :\n",
    "    Sellin_Price , Seller_Type , Fuel_Type , Klm_Driver\n",
    "###### - Les variables dépendante   a le prix (y) sont :\n",
    "    les variables restentes  de notre dataSet."
   ]
  },
  {
   "cell_type": "markdown",
   "id": "115c1cba",
   "metadata": {},
   "source": [
    "20.Diviser le jeu de données utilisé en deux parties (apprentissage et test)\n",
    "\n",
    "21.Construire le modèle de la régression Linéaire Multiple.\n",
    "\n",
    "22.Appliquer la phase de l’apprentissage automatique.\n",
    "\n",
    "23.Appliquer la prédiction.\n",
    "\n",
    "24.Calculer squared Error: error_score par la fonction suivante :\n",
    "metrics.r2_score(Y_train, training_data_prediction)"
   ]
  },
  {
   "cell_type": "code",
   "execution_count": 29,
   "id": "00332d89",
   "metadata": {},
   "outputs": [
    {
     "data": {
      "text/plain": [
       "0       5.59\n",
       "1       9.54\n",
       "2       9.85\n",
       "3       4.15\n",
       "4       6.87\n",
       "       ...  \n",
       "296    11.60\n",
       "297     5.90\n",
       "298    11.00\n",
       "299    12.50\n",
       "300     5.90\n",
       "Name: Present_Price, Length: 301, dtype: float64"
      ]
     },
     "execution_count": 29,
     "metadata": {},
     "output_type": "execute_result"
    }
   ],
   "source": [
    "Y = cars.iloc[: , 3]\n",
    "Y"
   ]
  },
  {
   "cell_type": "code",
   "execution_count": 30,
   "id": "d41c9cc7",
   "metadata": {},
   "outputs": [
    {
     "name": "stdout",
     "output_type": "stream",
     "text": [
      "Avant la suppression : \n"
     ]
    },
    {
     "data": {
      "text/html": [
       "<div>\n",
       "<style scoped>\n",
       "    .dataframe tbody tr th:only-of-type {\n",
       "        vertical-align: middle;\n",
       "    }\n",
       "\n",
       "    .dataframe tbody tr th {\n",
       "        vertical-align: top;\n",
       "    }\n",
       "\n",
       "    .dataframe thead th {\n",
       "        text-align: right;\n",
       "    }\n",
       "</style>\n",
       "<table border=\"1\" class=\"dataframe\">\n",
       "  <thead>\n",
       "    <tr style=\"text-align: right;\">\n",
       "      <th></th>\n",
       "      <th>Car_Name</th>\n",
       "      <th>Year</th>\n",
       "      <th>Selling_Price</th>\n",
       "      <th>Present_Price</th>\n",
       "      <th>Kms_Driven</th>\n",
       "      <th>Fuel_Type</th>\n",
       "      <th>Seller_Type</th>\n",
       "      <th>Transmission</th>\n",
       "      <th>Owner</th>\n",
       "    </tr>\n",
       "  </thead>\n",
       "  <tbody>\n",
       "    <tr>\n",
       "      <th>0</th>\n",
       "      <td>ritz</td>\n",
       "      <td>2014</td>\n",
       "      <td>3.35</td>\n",
       "      <td>5.59</td>\n",
       "      <td>27000</td>\n",
       "      <td>0</td>\n",
       "      <td>0</td>\n",
       "      <td>0</td>\n",
       "      <td>0</td>\n",
       "    </tr>\n",
       "    <tr>\n",
       "      <th>1</th>\n",
       "      <td>sx4</td>\n",
       "      <td>2013</td>\n",
       "      <td>4.75</td>\n",
       "      <td>9.54</td>\n",
       "      <td>43000</td>\n",
       "      <td>1</td>\n",
       "      <td>0</td>\n",
       "      <td>0</td>\n",
       "      <td>0</td>\n",
       "    </tr>\n",
       "    <tr>\n",
       "      <th>2</th>\n",
       "      <td>ciaz</td>\n",
       "      <td>2017</td>\n",
       "      <td>7.25</td>\n",
       "      <td>9.85</td>\n",
       "      <td>6900</td>\n",
       "      <td>0</td>\n",
       "      <td>0</td>\n",
       "      <td>0</td>\n",
       "      <td>0</td>\n",
       "    </tr>\n",
       "  </tbody>\n",
       "</table>\n",
       "</div>"
      ],
      "text/plain": [
       "  Car_Name  Year  Selling_Price  Present_Price  Kms_Driven  Fuel_Type  \\\n",
       "0     ritz  2014           3.35           5.59       27000          0   \n",
       "1      sx4  2013           4.75           9.54       43000          1   \n",
       "2     ciaz  2017           7.25           9.85        6900          0   \n",
       "\n",
       "   Seller_Type  Transmission  Owner  \n",
       "0            0             0      0  \n",
       "1            0             0      0  \n",
       "2            0             0      0  "
      ]
     },
     "execution_count": 30,
     "metadata": {},
     "output_type": "execute_result"
    }
   ],
   "source": [
    "# On supprimer les variables dependents a le prix car(sont des features unitilles)\n",
    "print(\"Avant la suppression : \")\n",
    "cars.head(3)"
   ]
  },
  {
   "cell_type": "code",
   "execution_count": 31,
   "id": "048efcf7",
   "metadata": {},
   "outputs": [
    {
     "name": "stdout",
     "output_type": "stream",
     "text": [
      "Apres la suppression : \n"
     ]
    },
    {
     "data": {
      "text/html": [
       "<div>\n",
       "<style scoped>\n",
       "    .dataframe tbody tr th:only-of-type {\n",
       "        vertical-align: middle;\n",
       "    }\n",
       "\n",
       "    .dataframe tbody tr th {\n",
       "        vertical-align: top;\n",
       "    }\n",
       "\n",
       "    .dataframe thead th {\n",
       "        text-align: right;\n",
       "    }\n",
       "</style>\n",
       "<table border=\"1\" class=\"dataframe\">\n",
       "  <thead>\n",
       "    <tr style=\"text-align: right;\">\n",
       "      <th></th>\n",
       "      <th>Selling_Price</th>\n",
       "      <th>Kms_Driven</th>\n",
       "      <th>Fuel_Type</th>\n",
       "      <th>Transmission</th>\n",
       "    </tr>\n",
       "  </thead>\n",
       "  <tbody>\n",
       "    <tr>\n",
       "      <th>0</th>\n",
       "      <td>3.35</td>\n",
       "      <td>27000</td>\n",
       "      <td>0</td>\n",
       "      <td>0</td>\n",
       "    </tr>\n",
       "    <tr>\n",
       "      <th>1</th>\n",
       "      <td>4.75</td>\n",
       "      <td>43000</td>\n",
       "      <td>1</td>\n",
       "      <td>0</td>\n",
       "    </tr>\n",
       "    <tr>\n",
       "      <th>2</th>\n",
       "      <td>7.25</td>\n",
       "      <td>6900</td>\n",
       "      <td>0</td>\n",
       "      <td>0</td>\n",
       "    </tr>\n",
       "  </tbody>\n",
       "</table>\n",
       "</div>"
      ],
      "text/plain": [
       "   Selling_Price  Kms_Driven  Fuel_Type  Transmission\n",
       "0           3.35       27000          0             0\n",
       "1           4.75       43000          1             0\n",
       "2           7.25        6900          0             0"
      ]
     },
     "execution_count": 31,
     "metadata": {},
     "output_type": "execute_result"
    }
   ],
   "source": [
    "print(\"Apres la suppression : \")\n",
    "X = cars.drop([\"Car_Name\" , \"Owner\" , \"Seller_Type\" , \"Year\" ,\"Present_Price\"] , axis=1)\n",
    "X.head(3)"
   ]
  },
  {
   "cell_type": "code",
   "execution_count": null,
   "id": "cfbdab51",
   "metadata": {},
   "outputs": [],
   "source": []
  },
  {
   "cell_type": "code",
   "execution_count": 32,
   "id": "d527eb25",
   "metadata": {},
   "outputs": [
    {
     "data": {
      "text/html": [
       "<div>\n",
       "<style scoped>\n",
       "    .dataframe tbody tr th:only-of-type {\n",
       "        vertical-align: middle;\n",
       "    }\n",
       "\n",
       "    .dataframe tbody tr th {\n",
       "        vertical-align: top;\n",
       "    }\n",
       "\n",
       "    .dataframe thead th {\n",
       "        text-align: right;\n",
       "    }\n",
       "</style>\n",
       "<table border=\"1\" class=\"dataframe\">\n",
       "  <thead>\n",
       "    <tr style=\"text-align: right;\">\n",
       "      <th></th>\n",
       "      <th>Car_Name</th>\n",
       "      <th>Year</th>\n",
       "      <th>Selling_Price</th>\n",
       "      <th>Present_Price</th>\n",
       "      <th>Kms_Driven</th>\n",
       "      <th>Fuel_Type</th>\n",
       "      <th>Seller_Type</th>\n",
       "      <th>Transmission</th>\n",
       "      <th>Owner</th>\n",
       "    </tr>\n",
       "  </thead>\n",
       "  <tbody>\n",
       "    <tr>\n",
       "      <th>0</th>\n",
       "      <td>ritz</td>\n",
       "      <td>2014</td>\n",
       "      <td>3.35</td>\n",
       "      <td>5.59</td>\n",
       "      <td>27000</td>\n",
       "      <td>0</td>\n",
       "      <td>0</td>\n",
       "      <td>0</td>\n",
       "      <td>0</td>\n",
       "    </tr>\n",
       "    <tr>\n",
       "      <th>1</th>\n",
       "      <td>sx4</td>\n",
       "      <td>2013</td>\n",
       "      <td>4.75</td>\n",
       "      <td>9.54</td>\n",
       "      <td>43000</td>\n",
       "      <td>1</td>\n",
       "      <td>0</td>\n",
       "      <td>0</td>\n",
       "      <td>0</td>\n",
       "    </tr>\n",
       "    <tr>\n",
       "      <th>2</th>\n",
       "      <td>ciaz</td>\n",
       "      <td>2017</td>\n",
       "      <td>7.25</td>\n",
       "      <td>9.85</td>\n",
       "      <td>6900</td>\n",
       "      <td>0</td>\n",
       "      <td>0</td>\n",
       "      <td>0</td>\n",
       "      <td>0</td>\n",
       "    </tr>\n",
       "    <tr>\n",
       "      <th>3</th>\n",
       "      <td>wagon r</td>\n",
       "      <td>2011</td>\n",
       "      <td>2.85</td>\n",
       "      <td>4.15</td>\n",
       "      <td>5200</td>\n",
       "      <td>0</td>\n",
       "      <td>0</td>\n",
       "      <td>0</td>\n",
       "      <td>0</td>\n",
       "    </tr>\n",
       "    <tr>\n",
       "      <th>4</th>\n",
       "      <td>swift</td>\n",
       "      <td>2014</td>\n",
       "      <td>4.60</td>\n",
       "      <td>6.87</td>\n",
       "      <td>42450</td>\n",
       "      <td>1</td>\n",
       "      <td>0</td>\n",
       "      <td>0</td>\n",
       "      <td>0</td>\n",
       "    </tr>\n",
       "    <tr>\n",
       "      <th>...</th>\n",
       "      <td>...</td>\n",
       "      <td>...</td>\n",
       "      <td>...</td>\n",
       "      <td>...</td>\n",
       "      <td>...</td>\n",
       "      <td>...</td>\n",
       "      <td>...</td>\n",
       "      <td>...</td>\n",
       "      <td>...</td>\n",
       "    </tr>\n",
       "    <tr>\n",
       "      <th>296</th>\n",
       "      <td>city</td>\n",
       "      <td>2016</td>\n",
       "      <td>9.50</td>\n",
       "      <td>11.60</td>\n",
       "      <td>33988</td>\n",
       "      <td>1</td>\n",
       "      <td>0</td>\n",
       "      <td>0</td>\n",
       "      <td>0</td>\n",
       "    </tr>\n",
       "    <tr>\n",
       "      <th>297</th>\n",
       "      <td>brio</td>\n",
       "      <td>2015</td>\n",
       "      <td>4.00</td>\n",
       "      <td>5.90</td>\n",
       "      <td>60000</td>\n",
       "      <td>0</td>\n",
       "      <td>0</td>\n",
       "      <td>0</td>\n",
       "      <td>0</td>\n",
       "    </tr>\n",
       "    <tr>\n",
       "      <th>298</th>\n",
       "      <td>city</td>\n",
       "      <td>2009</td>\n",
       "      <td>3.35</td>\n",
       "      <td>11.00</td>\n",
       "      <td>87934</td>\n",
       "      <td>0</td>\n",
       "      <td>0</td>\n",
       "      <td>0</td>\n",
       "      <td>0</td>\n",
       "    </tr>\n",
       "    <tr>\n",
       "      <th>299</th>\n",
       "      <td>city</td>\n",
       "      <td>2017</td>\n",
       "      <td>11.50</td>\n",
       "      <td>12.50</td>\n",
       "      <td>9000</td>\n",
       "      <td>1</td>\n",
       "      <td>0</td>\n",
       "      <td>0</td>\n",
       "      <td>0</td>\n",
       "    </tr>\n",
       "    <tr>\n",
       "      <th>300</th>\n",
       "      <td>brio</td>\n",
       "      <td>2016</td>\n",
       "      <td>5.30</td>\n",
       "      <td>5.90</td>\n",
       "      <td>5464</td>\n",
       "      <td>0</td>\n",
       "      <td>0</td>\n",
       "      <td>0</td>\n",
       "      <td>0</td>\n",
       "    </tr>\n",
       "  </tbody>\n",
       "</table>\n",
       "<p>301 rows × 9 columns</p>\n",
       "</div>"
      ],
      "text/plain": [
       "    Car_Name  Year  Selling_Price  Present_Price  Kms_Driven  Fuel_Type  \\\n",
       "0       ritz  2014           3.35           5.59       27000          0   \n",
       "1        sx4  2013           4.75           9.54       43000          1   \n",
       "2       ciaz  2017           7.25           9.85        6900          0   \n",
       "3    wagon r  2011           2.85           4.15        5200          0   \n",
       "4      swift  2014           4.60           6.87       42450          1   \n",
       "..       ...   ...            ...            ...         ...        ...   \n",
       "296     city  2016           9.50          11.60       33988          1   \n",
       "297     brio  2015           4.00           5.90       60000          0   \n",
       "298     city  2009           3.35          11.00       87934          0   \n",
       "299     city  2017          11.50          12.50        9000          1   \n",
       "300     brio  2016           5.30           5.90        5464          0   \n",
       "\n",
       "     Seller_Type  Transmission  Owner  \n",
       "0              0             0      0  \n",
       "1              0             0      0  \n",
       "2              0             0      0  \n",
       "3              0             0      0  \n",
       "4              0             0      0  \n",
       "..           ...           ...    ...  \n",
       "296            0             0      0  \n",
       "297            0             0      0  \n",
       "298            0             0      0  \n",
       "299            0             0      0  \n",
       "300            0             0      0  \n",
       "\n",
       "[301 rows x 9 columns]"
      ]
     },
     "execution_count": 32,
     "metadata": {},
     "output_type": "execute_result"
    }
   ],
   "source": [
    "cars"
   ]
  },
  {
   "cell_type": "markdown",
   "id": "77f8bce1",
   "metadata": {},
   "source": [
    "Diviser le jeu de données utilisé en deux parties (apprentissage et test)"
   ]
  },
  {
   "cell_type": "code",
   "execution_count": 33,
   "id": "be7e202a",
   "metadata": {},
   "outputs": [],
   "source": [
    "x_train , x_test , y_train , y_test = train_test_split(X , Y , train_size=0.7)"
   ]
  },
  {
   "cell_type": "code",
   "execution_count": 34,
   "id": "ccc81060",
   "metadata": {},
   "outputs": [
    {
     "data": {
      "text/plain": [
       "' Sizes : x_train = (210, 4)  ,  y_train = (210,)   ,  x_test = (91, 4)  ,   y_test = (91,)'"
      ]
     },
     "execution_count": 34,
     "metadata": {},
     "output_type": "execute_result"
    }
   ],
   "source": [
    "f' Sizes : x_train = {x_train.shape}  ,  y_train = {y_train.shape}   ,  x_test = {x_test.shape}  ,   y_test = {y_test.shape}'"
   ]
  },
  {
   "cell_type": "markdown",
   "id": "ef04d252",
   "metadata": {},
   "source": [
    "Construire le modèle de la régression Linéaire Multiple."
   ]
  },
  {
   "cell_type": "code",
   "execution_count": 35,
   "id": "52516658",
   "metadata": {},
   "outputs": [
    {
     "data": {
      "text/html": [
       "<style>#sk-container-id-2 {color: black;background-color: white;}#sk-container-id-2 pre{padding: 0;}#sk-container-id-2 div.sk-toggleable {background-color: white;}#sk-container-id-2 label.sk-toggleable__label {cursor: pointer;display: block;width: 100%;margin-bottom: 0;padding: 0.3em;box-sizing: border-box;text-align: center;}#sk-container-id-2 label.sk-toggleable__label-arrow:before {content: \"▸\";float: left;margin-right: 0.25em;color: #696969;}#sk-container-id-2 label.sk-toggleable__label-arrow:hover:before {color: black;}#sk-container-id-2 div.sk-estimator:hover label.sk-toggleable__label-arrow:before {color: black;}#sk-container-id-2 div.sk-toggleable__content {max-height: 0;max-width: 0;overflow: hidden;text-align: left;background-color: #f0f8ff;}#sk-container-id-2 div.sk-toggleable__content pre {margin: 0.2em;color: black;border-radius: 0.25em;background-color: #f0f8ff;}#sk-container-id-2 input.sk-toggleable__control:checked~div.sk-toggleable__content {max-height: 200px;max-width: 100%;overflow: auto;}#sk-container-id-2 input.sk-toggleable__control:checked~label.sk-toggleable__label-arrow:before {content: \"▾\";}#sk-container-id-2 div.sk-estimator input.sk-toggleable__control:checked~label.sk-toggleable__label {background-color: #d4ebff;}#sk-container-id-2 div.sk-label input.sk-toggleable__control:checked~label.sk-toggleable__label {background-color: #d4ebff;}#sk-container-id-2 input.sk-hidden--visually {border: 0;clip: rect(1px 1px 1px 1px);clip: rect(1px, 1px, 1px, 1px);height: 1px;margin: -1px;overflow: hidden;padding: 0;position: absolute;width: 1px;}#sk-container-id-2 div.sk-estimator {font-family: monospace;background-color: #f0f8ff;border: 1px dotted black;border-radius: 0.25em;box-sizing: border-box;margin-bottom: 0.5em;}#sk-container-id-2 div.sk-estimator:hover {background-color: #d4ebff;}#sk-container-id-2 div.sk-parallel-item::after {content: \"\";width: 100%;border-bottom: 1px solid gray;flex-grow: 1;}#sk-container-id-2 div.sk-label:hover label.sk-toggleable__label {background-color: #d4ebff;}#sk-container-id-2 div.sk-serial::before {content: \"\";position: absolute;border-left: 1px solid gray;box-sizing: border-box;top: 0;bottom: 0;left: 50%;z-index: 0;}#sk-container-id-2 div.sk-serial {display: flex;flex-direction: column;align-items: center;background-color: white;padding-right: 0.2em;padding-left: 0.2em;position: relative;}#sk-container-id-2 div.sk-item {position: relative;z-index: 1;}#sk-container-id-2 div.sk-parallel {display: flex;align-items: stretch;justify-content: center;background-color: white;position: relative;}#sk-container-id-2 div.sk-item::before, #sk-container-id-2 div.sk-parallel-item::before {content: \"\";position: absolute;border-left: 1px solid gray;box-sizing: border-box;top: 0;bottom: 0;left: 50%;z-index: -1;}#sk-container-id-2 div.sk-parallel-item {display: flex;flex-direction: column;z-index: 1;position: relative;background-color: white;}#sk-container-id-2 div.sk-parallel-item:first-child::after {align-self: flex-end;width: 50%;}#sk-container-id-2 div.sk-parallel-item:last-child::after {align-self: flex-start;width: 50%;}#sk-container-id-2 div.sk-parallel-item:only-child::after {width: 0;}#sk-container-id-2 div.sk-dashed-wrapped {border: 1px dashed gray;margin: 0 0.4em 0.5em 0.4em;box-sizing: border-box;padding-bottom: 0.4em;background-color: white;}#sk-container-id-2 div.sk-label label {font-family: monospace;font-weight: bold;display: inline-block;line-height: 1.2em;}#sk-container-id-2 div.sk-label-container {text-align: center;}#sk-container-id-2 div.sk-container {/* jupyter's `normalize.less` sets `[hidden] { display: none; }` but bootstrap.min.css set `[hidden] { display: none !important; }` so we also need the `!important` here to be able to override the default hidden behavior on the sphinx rendered scikit-learn.org. See: https://github.com/scikit-learn/scikit-learn/issues/21755 */display: inline-block !important;position: relative;}#sk-container-id-2 div.sk-text-repr-fallback {display: none;}</style><div id=\"sk-container-id-2\" class=\"sk-top-container\"><div class=\"sk-text-repr-fallback\"><pre>LinearRegression()</pre><b>In a Jupyter environment, please rerun this cell to show the HTML representation or trust the notebook. <br />On GitHub, the HTML representation is unable to render, please try loading this page with nbviewer.org.</b></div><div class=\"sk-container\" hidden><div class=\"sk-item\"><div class=\"sk-estimator sk-toggleable\"><input class=\"sk-toggleable__control sk-hidden--visually\" id=\"sk-estimator-id-2\" type=\"checkbox\" checked><label for=\"sk-estimator-id-2\" class=\"sk-toggleable__label sk-toggleable__label-arrow\">LinearRegression</label><div class=\"sk-toggleable__content\"><pre>LinearRegression()</pre></div></div></div></div></div>"
      ],
      "text/plain": [
       "LinearRegression()"
      ]
     },
     "execution_count": 35,
     "metadata": {},
     "output_type": "execute_result"
    }
   ],
   "source": [
    "model = LinearRegression()\n",
    "model"
   ]
  },
  {
   "cell_type": "markdown",
   "id": "240e4758",
   "metadata": {},
   "source": [
    "Appliquer la phase de l’apprentissage automatique."
   ]
  },
  {
   "cell_type": "code",
   "execution_count": 36,
   "id": "9105ef26",
   "metadata": {},
   "outputs": [
    {
     "data": {
      "text/html": [
       "<style>#sk-container-id-3 {color: black;background-color: white;}#sk-container-id-3 pre{padding: 0;}#sk-container-id-3 div.sk-toggleable {background-color: white;}#sk-container-id-3 label.sk-toggleable__label {cursor: pointer;display: block;width: 100%;margin-bottom: 0;padding: 0.3em;box-sizing: border-box;text-align: center;}#sk-container-id-3 label.sk-toggleable__label-arrow:before {content: \"▸\";float: left;margin-right: 0.25em;color: #696969;}#sk-container-id-3 label.sk-toggleable__label-arrow:hover:before {color: black;}#sk-container-id-3 div.sk-estimator:hover label.sk-toggleable__label-arrow:before {color: black;}#sk-container-id-3 div.sk-toggleable__content {max-height: 0;max-width: 0;overflow: hidden;text-align: left;background-color: #f0f8ff;}#sk-container-id-3 div.sk-toggleable__content pre {margin: 0.2em;color: black;border-radius: 0.25em;background-color: #f0f8ff;}#sk-container-id-3 input.sk-toggleable__control:checked~div.sk-toggleable__content {max-height: 200px;max-width: 100%;overflow: auto;}#sk-container-id-3 input.sk-toggleable__control:checked~label.sk-toggleable__label-arrow:before {content: \"▾\";}#sk-container-id-3 div.sk-estimator input.sk-toggleable__control:checked~label.sk-toggleable__label {background-color: #d4ebff;}#sk-container-id-3 div.sk-label input.sk-toggleable__control:checked~label.sk-toggleable__label {background-color: #d4ebff;}#sk-container-id-3 input.sk-hidden--visually {border: 0;clip: rect(1px 1px 1px 1px);clip: rect(1px, 1px, 1px, 1px);height: 1px;margin: -1px;overflow: hidden;padding: 0;position: absolute;width: 1px;}#sk-container-id-3 div.sk-estimator {font-family: monospace;background-color: #f0f8ff;border: 1px dotted black;border-radius: 0.25em;box-sizing: border-box;margin-bottom: 0.5em;}#sk-container-id-3 div.sk-estimator:hover {background-color: #d4ebff;}#sk-container-id-3 div.sk-parallel-item::after {content: \"\";width: 100%;border-bottom: 1px solid gray;flex-grow: 1;}#sk-container-id-3 div.sk-label:hover label.sk-toggleable__label {background-color: #d4ebff;}#sk-container-id-3 div.sk-serial::before {content: \"\";position: absolute;border-left: 1px solid gray;box-sizing: border-box;top: 0;bottom: 0;left: 50%;z-index: 0;}#sk-container-id-3 div.sk-serial {display: flex;flex-direction: column;align-items: center;background-color: white;padding-right: 0.2em;padding-left: 0.2em;position: relative;}#sk-container-id-3 div.sk-item {position: relative;z-index: 1;}#sk-container-id-3 div.sk-parallel {display: flex;align-items: stretch;justify-content: center;background-color: white;position: relative;}#sk-container-id-3 div.sk-item::before, #sk-container-id-3 div.sk-parallel-item::before {content: \"\";position: absolute;border-left: 1px solid gray;box-sizing: border-box;top: 0;bottom: 0;left: 50%;z-index: -1;}#sk-container-id-3 div.sk-parallel-item {display: flex;flex-direction: column;z-index: 1;position: relative;background-color: white;}#sk-container-id-3 div.sk-parallel-item:first-child::after {align-self: flex-end;width: 50%;}#sk-container-id-3 div.sk-parallel-item:last-child::after {align-self: flex-start;width: 50%;}#sk-container-id-3 div.sk-parallel-item:only-child::after {width: 0;}#sk-container-id-3 div.sk-dashed-wrapped {border: 1px dashed gray;margin: 0 0.4em 0.5em 0.4em;box-sizing: border-box;padding-bottom: 0.4em;background-color: white;}#sk-container-id-3 div.sk-label label {font-family: monospace;font-weight: bold;display: inline-block;line-height: 1.2em;}#sk-container-id-3 div.sk-label-container {text-align: center;}#sk-container-id-3 div.sk-container {/* jupyter's `normalize.less` sets `[hidden] { display: none; }` but bootstrap.min.css set `[hidden] { display: none !important; }` so we also need the `!important` here to be able to override the default hidden behavior on the sphinx rendered scikit-learn.org. See: https://github.com/scikit-learn/scikit-learn/issues/21755 */display: inline-block !important;position: relative;}#sk-container-id-3 div.sk-text-repr-fallback {display: none;}</style><div id=\"sk-container-id-3\" class=\"sk-top-container\"><div class=\"sk-text-repr-fallback\"><pre>LinearRegression()</pre><b>In a Jupyter environment, please rerun this cell to show the HTML representation or trust the notebook. <br />On GitHub, the HTML representation is unable to render, please try loading this page with nbviewer.org.</b></div><div class=\"sk-container\" hidden><div class=\"sk-item\"><div class=\"sk-estimator sk-toggleable\"><input class=\"sk-toggleable__control sk-hidden--visually\" id=\"sk-estimator-id-3\" type=\"checkbox\" checked><label for=\"sk-estimator-id-3\" class=\"sk-toggleable__label sk-toggleable__label-arrow\">LinearRegression</label><div class=\"sk-toggleable__content\"><pre>LinearRegression()</pre></div></div></div></div></div>"
      ],
      "text/plain": [
       "LinearRegression()"
      ]
     },
     "execution_count": 36,
     "metadata": {},
     "output_type": "execute_result"
    }
   ],
   "source": [
    "model.fit(X , Y)"
   ]
  },
  {
   "cell_type": "markdown",
   "id": "a0ebc415",
   "metadata": {},
   "source": [
    "Appliquer la prédiction"
   ]
  },
  {
   "cell_type": "code",
   "execution_count": 37,
   "id": "ccd4fe94",
   "metadata": {},
   "outputs": [
    {
     "data": {
      "text/plain": [
       "array([ 1.95413129,  0.31752599,  0.72973405,  4.02903749,  0.62036666,\n",
       "        2.88682842, 13.90207771,  3.77402706, 11.0329178 , -0.37194309,\n",
       "        1.57616373,  0.54564103,  1.52969632,  0.47293807,  9.06483379,\n",
       "        7.34930233, 17.38692362,  9.48351607,  8.30776475, 17.85802709,\n",
       "       12.45440886,  0.87825413,  1.15984089, 35.95819576,  1.77915615,\n",
       "        8.51877534,  5.18197839, -0.18298075,  5.5750978 ,  6.31134515,\n",
       "        8.48634557,  5.93392641, -0.32849898,  5.0027903 ,  2.24516775,\n",
       "        9.05395826,  8.26623547,  5.10100982,  9.50283325,  7.19430439,\n",
       "        1.24088061,  7.58586645, 30.32401521,  2.22938252,  7.18947001,\n",
       "        1.31156089, 11.08982697,  7.9638223 ,  9.1457927 ,  7.38491606,\n",
       "        0.53763609, 11.87203278, 10.80685182, 19.46181444,  6.36438511,\n",
       "        6.43239557,  1.99503914,  1.08458023,  5.46746432, 10.61012863,\n",
       "       13.45352332, 10.93886914,  0.49316992,  0.5901072 ,  8.55146649,\n",
       "        0.83223087, 11.79560639,  1.72468381,  8.79711848,  3.63180437,\n",
       "        6.7421068 ,  0.28725796, 10.44210148,  0.28528674,  0.20213346,\n",
       "        4.58028815, 16.19423744,  1.42713005,  1.88320493,  9.2533998 ,\n",
       "        2.15887887, 13.79218578, 10.34056433,  1.77492904,  5.85651775,\n",
       "        0.80310579, 14.82132524,  7.77662007, 21.54558473,  0.62723722,\n",
       "        7.72912069])"
      ]
     },
     "execution_count": 37,
     "metadata": {},
     "output_type": "execute_result"
    }
   ],
   "source": [
    "predictions = model.predict(x_test)\n",
    "predictions"
   ]
  },
  {
   "cell_type": "markdown",
   "id": "a3ed722d",
   "metadata": {},
   "source": [
    "Calculer squared Error: error_score par la fonction suivante : metrics.r2_score(Y_train, training_data_prediction)"
   ]
  },
  {
   "cell_type": "code",
   "execution_count": 38,
   "id": "a35841f9",
   "metadata": {},
   "outputs": [
    {
     "name": "stdout",
     "output_type": "stream",
     "text": [
      "model score = 0.7958496294161166\n",
      "MSE =  7.998868674791126\n"
     ]
    }
   ],
   "source": [
    "from sklearn.metrics import r2_score , mean_squared_error\n",
    "_score = r2_score(y_train , model.predict(x_train))\n",
    "print(\"model score = {}\".format(_score))\n",
    "print(\"MSE = \", mean_squared_error(y_test, predictions))"
   ]
  },
  {
   "cell_type": "markdown",
   "id": "e79862c8",
   "metadata": {},
   "source": [
    "### 25.Normalisation des donnees par la fonction suivante :"
   ]
  },
  {
   "cell_type": "code",
   "execution_count": 39,
   "id": "9af0ea96",
   "metadata": {},
   "outputs": [],
   "source": [
    "from sklearn.preprocessing import StandardScaler\n",
    "n_scaler = StandardScaler()\n",
    "x_train_normaliser = n_scaler.fit_transform(x_train)\n",
    "y_train_normaliser = n_scaler.fit_transform(np.array(y_train).reshape(-1 , 1))\n",
    "x_test_normaliser = n_scaler.fit_transform(x_test)\n",
    "y_test_normaliser = n_scaler.fit_transform(np.array(y_test).reshape(-1 , 1))"
   ]
  },
  {
   "cell_type": "code",
   "execution_count": 40,
   "id": "422603e5",
   "metadata": {},
   "outputs": [
    {
     "data": {
      "text/plain": [
       "(array([-0.80311918, -0.52572792, -0.45562108, -0.39223227]),\n",
       " array([-0.77364201]))"
      ]
     },
     "execution_count": 40,
     "metadata": {},
     "output_type": "execute_result"
    }
   ],
   "source": [
    "x_train_normaliser[0] , y_train_normaliser[0]"
   ]
  },
  {
   "cell_type": "markdown",
   "id": "41042a6a",
   "metadata": {},
   "source": [
    "### 26.Refaire le calcul de l’apprentissage"
   ]
  },
  {
   "cell_type": "code",
   "execution_count": 41,
   "id": "4258a254",
   "metadata": {},
   "outputs": [
    {
     "data": {
      "text/html": [
       "<style>#sk-container-id-4 {color: black;background-color: white;}#sk-container-id-4 pre{padding: 0;}#sk-container-id-4 div.sk-toggleable {background-color: white;}#sk-container-id-4 label.sk-toggleable__label {cursor: pointer;display: block;width: 100%;margin-bottom: 0;padding: 0.3em;box-sizing: border-box;text-align: center;}#sk-container-id-4 label.sk-toggleable__label-arrow:before {content: \"▸\";float: left;margin-right: 0.25em;color: #696969;}#sk-container-id-4 label.sk-toggleable__label-arrow:hover:before {color: black;}#sk-container-id-4 div.sk-estimator:hover label.sk-toggleable__label-arrow:before {color: black;}#sk-container-id-4 div.sk-toggleable__content {max-height: 0;max-width: 0;overflow: hidden;text-align: left;background-color: #f0f8ff;}#sk-container-id-4 div.sk-toggleable__content pre {margin: 0.2em;color: black;border-radius: 0.25em;background-color: #f0f8ff;}#sk-container-id-4 input.sk-toggleable__control:checked~div.sk-toggleable__content {max-height: 200px;max-width: 100%;overflow: auto;}#sk-container-id-4 input.sk-toggleable__control:checked~label.sk-toggleable__label-arrow:before {content: \"▾\";}#sk-container-id-4 div.sk-estimator input.sk-toggleable__control:checked~label.sk-toggleable__label {background-color: #d4ebff;}#sk-container-id-4 div.sk-label input.sk-toggleable__control:checked~label.sk-toggleable__label {background-color: #d4ebff;}#sk-container-id-4 input.sk-hidden--visually {border: 0;clip: rect(1px 1px 1px 1px);clip: rect(1px, 1px, 1px, 1px);height: 1px;margin: -1px;overflow: hidden;padding: 0;position: absolute;width: 1px;}#sk-container-id-4 div.sk-estimator {font-family: monospace;background-color: #f0f8ff;border: 1px dotted black;border-radius: 0.25em;box-sizing: border-box;margin-bottom: 0.5em;}#sk-container-id-4 div.sk-estimator:hover {background-color: #d4ebff;}#sk-container-id-4 div.sk-parallel-item::after {content: \"\";width: 100%;border-bottom: 1px solid gray;flex-grow: 1;}#sk-container-id-4 div.sk-label:hover label.sk-toggleable__label {background-color: #d4ebff;}#sk-container-id-4 div.sk-serial::before {content: \"\";position: absolute;border-left: 1px solid gray;box-sizing: border-box;top: 0;bottom: 0;left: 50%;z-index: 0;}#sk-container-id-4 div.sk-serial {display: flex;flex-direction: column;align-items: center;background-color: white;padding-right: 0.2em;padding-left: 0.2em;position: relative;}#sk-container-id-4 div.sk-item {position: relative;z-index: 1;}#sk-container-id-4 div.sk-parallel {display: flex;align-items: stretch;justify-content: center;background-color: white;position: relative;}#sk-container-id-4 div.sk-item::before, #sk-container-id-4 div.sk-parallel-item::before {content: \"\";position: absolute;border-left: 1px solid gray;box-sizing: border-box;top: 0;bottom: 0;left: 50%;z-index: -1;}#sk-container-id-4 div.sk-parallel-item {display: flex;flex-direction: column;z-index: 1;position: relative;background-color: white;}#sk-container-id-4 div.sk-parallel-item:first-child::after {align-self: flex-end;width: 50%;}#sk-container-id-4 div.sk-parallel-item:last-child::after {align-self: flex-start;width: 50%;}#sk-container-id-4 div.sk-parallel-item:only-child::after {width: 0;}#sk-container-id-4 div.sk-dashed-wrapped {border: 1px dashed gray;margin: 0 0.4em 0.5em 0.4em;box-sizing: border-box;padding-bottom: 0.4em;background-color: white;}#sk-container-id-4 div.sk-label label {font-family: monospace;font-weight: bold;display: inline-block;line-height: 1.2em;}#sk-container-id-4 div.sk-label-container {text-align: center;}#sk-container-id-4 div.sk-container {/* jupyter's `normalize.less` sets `[hidden] { display: none; }` but bootstrap.min.css set `[hidden] { display: none !important; }` so we also need the `!important` here to be able to override the default hidden behavior on the sphinx rendered scikit-learn.org. See: https://github.com/scikit-learn/scikit-learn/issues/21755 */display: inline-block !important;position: relative;}#sk-container-id-4 div.sk-text-repr-fallback {display: none;}</style><div id=\"sk-container-id-4\" class=\"sk-top-container\"><div class=\"sk-text-repr-fallback\"><pre>LinearRegression()</pre><b>In a Jupyter environment, please rerun this cell to show the HTML representation or trust the notebook. <br />On GitHub, the HTML representation is unable to render, please try loading this page with nbviewer.org.</b></div><div class=\"sk-container\" hidden><div class=\"sk-item\"><div class=\"sk-estimator sk-toggleable\"><input class=\"sk-toggleable__control sk-hidden--visually\" id=\"sk-estimator-id-4\" type=\"checkbox\" checked><label for=\"sk-estimator-id-4\" class=\"sk-toggleable__label sk-toggleable__label-arrow\">LinearRegression</label><div class=\"sk-toggleable__content\"><pre>LinearRegression()</pre></div></div></div></div></div>"
      ],
      "text/plain": [
       "LinearRegression()"
      ]
     },
     "execution_count": 41,
     "metadata": {},
     "output_type": "execute_result"
    }
   ],
   "source": [
    "model2 = LinearRegression()\n",
    "model2.fit(x_train_normaliser , y_train_normaliser)"
   ]
  },
  {
   "cell_type": "code",
   "execution_count": 42,
   "id": "c0f51bf4",
   "metadata": {},
   "outputs": [
    {
     "name": "stdout",
     "output_type": "stream",
     "text": [
      "[[-0.68989988]\n",
      " [-0.9361693 ]\n",
      " [-0.88360455]\n",
      " [-0.36182798]\n",
      " [-0.92490312]\n",
      " [-0.46569736]\n",
      " [ 1.02480385]\n",
      " [-0.4720822 ]\n",
      " [ 0.69270834]\n",
      " [-1.19802724]\n",
      " [-0.71309873]\n",
      " [-0.90960813]\n",
      " [-0.70645425]\n",
      " [-0.90855635]\n",
      " [ 0.27865334]\n",
      " [ 0.08727599]\n",
      " [ 1.48373773]\n",
      " [ 0.48011981]\n",
      " [ 0.09120697]\n",
      " [ 1.6880256 ]\n",
      " [ 0.81876396]\n",
      " [-0.84753074]\n",
      " [-0.80681249]\n",
      " [ 4.09054772]\n",
      " [-0.6598962 ]\n",
      " [ 0.34531963]\n",
      " [-0.16753511]\n",
      " [-1.16624129]\n",
      " [-0.0474243 ]\n",
      " [-0.06118899]\n",
      " [ 0.33926708]\n",
      " [-0.0759307 ]\n",
      " [-1.19340015]\n",
      " [-0.06869523]\n",
      " [-0.63558217]\n",
      " [ 0.37757618]\n",
      " [ 0.33647911]\n",
      " [-0.12546255]\n",
      " [ 0.34995618]\n",
      " [-0.07134957]\n",
      " [-0.82649886]\n",
      " [ 0.12446498]\n",
      " [ 3.28338493]\n",
      " [-0.62460375]\n",
      " [ 0.20513901]\n",
      " [-0.81330741]\n",
      " [ 0.4468255 ]\n",
      " [ 0.17759931]\n",
      " [ 0.50411678]\n",
      " [ 0.03474365]\n",
      " [-0.93338133]\n",
      " [ 0.74687814]\n",
      " [ 0.67836541]\n",
      " [ 1.87247204]\n",
      " [ 0.05463006]\n",
      " [-0.01770994]\n",
      " [-0.72751965]\n",
      " [-0.82782105]\n",
      " [-0.13514006]\n",
      " [ 0.70082901]\n",
      " [ 1.07485661]\n",
      " [ 0.42561367]\n",
      " [-0.92079354]\n",
      " [-0.92219591]\n",
      " [ 0.28727454]\n",
      " [-0.85403163]\n",
      " [ 0.75846832]\n",
      " [-0.67702492]\n",
      " [ 0.26260357]\n",
      " [-0.29374843]\n",
      " [ 0.0052819 ]\n",
      " [-1.07151584]\n",
      " [ 0.53570029]\n",
      " [-0.95959191]\n",
      " [-0.97511126]\n",
      " [-0.31464307]\n",
      " [ 1.36009788]\n",
      " [-0.80566261]\n",
      " [-0.74142962]\n",
      " [ 0.44761534]\n",
      " [-0.66909235]\n",
      " [ 1.11717627]\n",
      " [ 0.46363714]\n",
      " [-0.73030762]\n",
      " [-0.04164216]\n",
      " [-0.83927688]\n",
      " [ 1.26051442]\n",
      " [ 0.16006637]\n",
      " [ 2.05102377]\n",
      " [-0.91317746]\n",
      " [ 0.20838546]]\n"
     ]
    }
   ],
   "source": [
    "predts_ = model2.predict(x_test_normaliser)\n",
    "print(predts_)"
   ]
  },
  {
   "cell_type": "markdown",
   "id": "ca63d770",
   "metadata": {},
   "source": [
    "### 27.Appliquer le calcul du score sur les variables de test par la fonction score (X_train,y_train)"
   ]
  },
  {
   "cell_type": "code",
   "execution_count": 43,
   "id": "2a980dc9",
   "metadata": {},
   "outputs": [
    {
     "name": "stdout",
     "output_type": "stream",
     "text": [
      "model score = 0.8335920215551642\n"
     ]
    }
   ],
   "source": [
    "print(\"model score = {}\".format(r2_score(y_test_normaliser , model2.predict(x_test_normaliser))))"
   ]
  },
  {
   "cell_type": "markdown",
   "id": "f17ff005",
   "metadata": {},
   "source": [
    "### 28.Calculer l’erreur moyenne quadratique MSE entre le test et la prédiction\n"
   ]
  },
  {
   "cell_type": "code",
   "execution_count": 44,
   "id": "9f3f7237",
   "metadata": {},
   "outputs": [
    {
     "data": {
      "text/plain": [
       "0.1664079784448358"
      ]
     },
     "execution_count": 44,
     "metadata": {},
     "output_type": "execute_result"
    }
   ],
   "source": [
    "from sklearn.metrics import mean_squared_error\n",
    "MSE = mean_squared_error(predts_, y_test_normaliser )\n",
    "MSE"
   ]
  },
  {
   "cell_type": "markdown",
   "id": "a95469dc",
   "metadata": {},
   "source": [
    "### 29.Commenter les résultats"
   ]
  },
  {
   "cell_type": "markdown",
   "id": "31098486",
   "metadata": {},
   "source": [
    "La normalisation des donnees sera une etape tres utile avant l'entrainement d'une model , car elle permis d'augmenter la precision de notre model, et minimiser l'erreur moyenne quadratique."
   ]
  },
  {
   "cell_type": "markdown",
   "id": "71082aa7",
   "metadata": {},
   "source": [
    "# Fin."
   ]
  },
  {
   "cell_type": "code",
   "execution_count": null,
   "id": "5b97ff18",
   "metadata": {},
   "outputs": [],
   "source": []
  }
 ],
 "metadata": {
  "kernelspec": {
   "display_name": "Python 3 (ipykernel)",
   "language": "python",
   "name": "python3"
  },
  "language_info": {
   "codemirror_mode": {
    "name": "ipython",
    "version": 3
   },
   "file_extension": ".py",
   "mimetype": "text/x-python",
   "name": "python",
   "nbconvert_exporter": "python",
   "pygments_lexer": "ipython3",
   "version": "3.10.8"
  }
 },
 "nbformat": 4,
 "nbformat_minor": 5
}
